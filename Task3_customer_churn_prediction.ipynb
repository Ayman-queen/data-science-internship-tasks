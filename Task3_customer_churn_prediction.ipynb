{
  "nbformat": 4,
  "nbformat_minor": 0,
  "metadata": {
    "colab": {
      "provenance": [],
      "authorship_tag": "ABX9TyPOJJ5hOx/CQxpV6ZbGujX4",
      "include_colab_link": true
    },
    "kernelspec": {
      "name": "python3",
      "display_name": "Python 3"
    },
    "language_info": {
      "name": "python"
    }
  },
  "cells": [
    {
      "cell_type": "markdown",
      "metadata": {
        "id": "view-in-github",
        "colab_type": "text"
      },
      "source": [
        "<a href=\"https://colab.research.google.com/github/Ayman-queen/data-science-internship-tasks/blob/main/Task3_customer_churn_prediction.ipynb\" target=\"_parent\"><img src=\"https://colab.research.google.com/assets/colab-badge.svg\" alt=\"Open In Colab\"/></a>"
      ]
    },
    {
      "cell_type": "code",
      "source": [
        "# ✅ Task 3: Customer Churn Prediction – Improved Sample Data (30 rows)\n",
        "\n",
        "import pandas as pd\n",
        "import seaborn as sns\n",
        "import matplotlib.pyplot as plt\n",
        "from sklearn.model_selection import train_test_split\n",
        "from sklearn.preprocessing import LabelEncoder\n",
        "from sklearn.ensemble import RandomForestClassifier\n",
        "from sklearn.metrics import accuracy_score, confusion_matrix, classification_report\n",
        "\n",
        "# Step 1: Create sample dataset (30 rows, mix of 0 & 1 churns)\n",
        "data = {\n",
        "    'credit_score': [650, 700, 620, 720, 690, 600, 680, 710, 590, 640,\n",
        "                     660, 680, 710, 690, 630, 700, 675, 695, 640, 615,\n",
        "                     730, 665, 680, 645, 710, 620, 690, 725, 660, 695],\n",
        "    'geography': ['France', 'Spain', 'Germany', 'France', 'Spain', 'Germany', 'France', 'Germany', 'Spain', 'France',\n",
        "                  'France', 'Germany', 'Spain', 'France', 'Spain', 'Germany', 'France', 'Spain', 'Germany', 'France',\n",
        "                  'Germany', 'Spain', 'France', 'Germany', 'France', 'Spain', 'Germany', 'France', 'Spain', 'Germany'],\n",
        "    'gender': ['Male', 'Female', 'Female', 'Male', 'Male', 'Female', 'Female', 'Male', 'Male', 'Female',\n",
        "               'Male', 'Female', 'Male', 'Female', 'Female', 'Male', 'Male', 'Female', 'Male', 'Female',\n",
        "               'Female', 'Male', 'Female', 'Female', 'Male', 'Male', 'Female', 'Female', 'Male', 'Female'],\n",
        "    'age': [40, 42, 35, 30, 45, 50, 38, 29, 48, 33,\n",
        "            41, 39, 37, 36, 44, 43, 34, 32, 31, 46,\n",
        "            50, 47, 36, 38, 35, 45, 42, 33, 31, 39],\n",
        "    'tenure': [3, 4, 2, 6, 5, 3, 4, 1, 6, 2,\n",
        "               4, 2, 1, 5, 3, 6, 3, 2, 4, 3,\n",
        "               2, 4, 6, 1, 3, 2, 1, 5, 4, 3],\n",
        "    'balance': [10000, 15000, 20000, 12000, 18000, 16000, 17000, 14000, 19000, 11000,\n",
        "                18000, 19000, 20000, 14000, 16000, 13000, 15000, 18000, 11000, 17000,\n",
        "                10000, 13000, 12000, 19000, 15000, 14000, 11000, 16000, 17000, 12500],\n",
        "    'num_of_products': [1,2,1,1,2,1,2,1,1,2,\n",
        "                        1,1,2,2,1,1,1,2,1,1,\n",
        "                        2,1,2,1,1,1,2,2,1,1],\n",
        "    'has_cr_card': [1,1,0,1,0,1,0,1,0,1,\n",
        "                    1,0,1,0,1,0,1,0,1,1,\n",
        "                    0,1,1,0,1,0,1,0,1,1],\n",
        "    'is_active_member': [1,0,1,1,0,0,1,0,1,0,\n",
        "                         1,1,0,1,1,1,0,1,0,1,\n",
        "                         0,1,1,1,0,0,1,1,0,1],\n",
        "    'estimated_salary': [50000,60000,55000,62000,58000,57000,54000,63000,52000,51000,\n",
        "                         59000,61000,60000,53000,56000,58000,57000,50000,52000,63000,\n",
        "                         54000,58000,60000,55000,59000,62000,61000,54000,57000,56000],\n",
        "    'exited': [0,1,0,0,1,1,0,0,1,0,\n",
        "               0,1,0,1,1,0,0,0,1,1,\n",
        "               0,0,1,0,1,0,1,0,1,1]\n",
        "}\n",
        "\n",
        "df = pd.DataFrame(data)\n",
        "\n",
        "# Step 2: Encode Categorical Data\n",
        "from sklearn.preprocessing import LabelEncoder\n",
        "le = LabelEncoder()\n",
        "df['gender'] = le.fit_transform(df['gender'])  # Male = 1, Female = 0\n",
        "df = pd.get_dummies(df, columns=['geography'], drop_first=True)\n",
        "\n",
        "# Step 3: Split X and y\n",
        "X = df.drop(columns=['exited'])\n",
        "y = df['exited']\n",
        "\n",
        "from sklearn.model_selection import train_test_split\n",
        "X_train, X_test, y_train, y_test = train_test_split(\n",
        "    X, y, test_size=0.2, random_state=42\n",
        ")\n",
        "\n",
        "# Step 4: Train Random Forest\n",
        "from sklearn.ensemble import RandomForestClassifier\n",
        "from sklearn.metrics import accuracy_score, confusion_matrix, classification_report\n",
        "\n",
        "model = RandomForestClassifier(random_state=42)\n",
        "model.fit(X_train, y_train)\n",
        "y_pred = model.predict(X_test)\n",
        "\n",
        "# Step 5: Evaluation\n",
        "print(\"✅ Accuracy:\", accuracy_score(y_test, y_pred))\n",
        "print(\"\\n✅ Confusion Matrix:\\n\", confusion_matrix(y_test, y_pred))\n",
        "print(\"\\n✅ Classification Report:\\n\", classification_report(y_test, y_pred))\n",
        "\n",
        "# Step 6: Plot Exited\n",
        "import matplotlib.pyplot as plt\n",
        "sns.countplot(x='exited', data=df)\n",
        "plt.title('Churn Count')\n",
        "plt.xlabel('Exited (0 = Stayed, 1 = Left)')\n",
        "plt.show()"
      ],
      "metadata": {
        "colab": {
          "base_uri": "https://localhost:8080/",
          "height": 534
        },
        "id": "icYZfJMyXDPd",
        "outputId": "005ed388-3afd-4a46-f3b5-0392fcea1260"
      },
      "execution_count": 2,
      "outputs": [
        {
          "output_type": "stream",
          "name": "stdout",
          "text": [
            "✅ Accuracy: 0.5\n",
            "\n",
            "✅ Confusion Matrix:\n",
            " [[2 3]\n",
            " [0 1]]\n",
            "\n",
            "✅ Classification Report:\n",
            "               precision    recall  f1-score   support\n",
            "\n",
            "           0       1.00      0.40      0.57         5\n",
            "           1       0.25      1.00      0.40         1\n",
            "\n",
            "    accuracy                           0.50         6\n",
            "   macro avg       0.62      0.70      0.49         6\n",
            "weighted avg       0.88      0.50      0.54         6\n",
            "\n"
          ]
        },
        {
          "output_type": "display_data",
          "data": {
            "text/plain": [
              "<Figure size 640x480 with 1 Axes>"
            ],
            "image/png": "[encoded data removed]"
          },
          "metadata": {}
        }
      ]
    }
  ]
}