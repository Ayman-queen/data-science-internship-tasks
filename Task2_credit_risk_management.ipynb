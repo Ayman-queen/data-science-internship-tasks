{
  "nbformat": 4,
  "nbformat_minor": 0,
  "metadata": {
    "colab": {
      "provenance": [],
      "authorship_tag": "ABX9TyOLjBH85rPtt1yLVD1pZ7BU",
      "include_colab_link": true
    },
    "kernelspec": {
      "name": "python3",
      "display_name": "Python 3"
    },
    "language_info": {
      "name": "python"
    }
  },
  "cells": [
    {
      "cell_type": "markdown",
      "metadata": {
        "id": "view-in-github",
        "colab_type": "text"
      },
      "source": [
        "<a href=\"https://colab.research.google.com/github/Ayman-queen/data-science-internship-tasks/blob/main/Task2_credit_risk_management.ipynb\" target=\"_parent\"><img src=\"https://colab.research.google.com/assets/colab-badge.svg\" alt=\"Open In Colab\"/></a>"
      ]
    },
    {
      "cell_type": "code",
      "source": [
        "\n",
        "# ✅ TASK 2: Credit Risk Prediction (Using Sample Data, No Upload Needed)\n",
        "\n",
        "# Step 1: Import Required Libraries\n",
        "import pandas as pd\n",
        "import seaborn as sns\n",
        "import matplotlib.pyplot as plt\n",
        "from sklearn.model_selection import train_test_split\n",
        "from sklearn.preprocessing import LabelEncoder\n",
        "from sklearn.linear_model import LogisticRegression\n",
        "from sklearn.metrics import accuracy_score, confusion_matrix\n",
        "\n",
        "# Step 2: Create a Sample Loan Dataset\n",
        "data = {\n",
        "    'Gender': ['Male', 'Female', 'Male', 'Female', 'Male', 'Female', 'Male', 'Female', 'Male', 'Female'],\n",
        "    'Married': ['Yes', 'No', 'Yes', 'Yes', 'No', 'Yes', 'No', 'No', 'Yes', 'Yes'],\n",
        "    'ApplicantIncome': [5000, 3000, 4000, 6000, 2500, 4200, 3700, 2900, 4500, 5200],\n",
        "    'LoanAmount': [200, 100, 150, 250, 80, 180, 120, 90, 220, 160],\n",
        "    'Credit_History': [1, 1, 0, 1, 0, 1, 1, 0, 0, 1],\n",
        "    'Loan_Status': ['Y', 'N', 'Y', 'Y', 'N', 'Y', 'Y', 'N', 'N', 'Y']\n",
        "}\n",
        "\n",
        "df = pd.DataFrame(data)\n",
        "print(\"Sample Dataset:\\n\")\n",
        "print(df)\n",
        "\n",
        "# Step 3: Encode Categorical Features\n",
        "le = LabelEncoder()\n",
        "df['Gender'] = le.fit_transform(df['Gender'])         # Male=1, Female=0\n",
        "df['Married'] = le.fit_transform(df['Married'])       # Yes=1, No=0\n",
        "df['Loan_Status'] = le.fit_transform(df['Loan_Status'])  # Y=1, N=0\n",
        "\n",
        "# Step 4: Select Features and Target\n",
        "X = df[['Gender', 'Married', 'ApplicantIncome', 'LoanAmount', 'Credit_History']]\n",
        "y = df['Loan_Status']\n",
        "\n",
        "# Step 5: Split the Dataset\n",
        "X_train, X_test, y_train, y_test = train_test_split(\n",
        "    X, y, test_size=0.4, random_state=42, stratify=y)\n",
        "\n",
        "# Step 6: Train the Model\n",
        "model = LogisticRegression()\n",
        "model.fit(X_train, y_train)\n",
        "\n",
        "# Step 7: Make Predictions\n",
        "y_pred = model.predict(X_test)\n",
        "\n",
        "# Step 8: Evaluate the Model\n",
        "accuracy = accuracy_score(y_test, y_pred)\n",
        "cm = confusion_matrix(y_test, y_pred)\n",
        "\n",
        "print(\"\\n✅ Accuracy:\", accuracy)\n",
        "print(\"\\n✅ Confusion Matrix:\\n\", cm)\n",
        "\n",
        "# Step 9: Visualize the Confusion Matrix\n",
        "sns.heatmap(cm, annot=True, fmt='d', cmap='Blues')\n",
        "plt.title(\"Confusion Matrix\")\n",
        "plt.xlabel(\"Predicted\")\n",
        "plt.ylabel(\"Actual\")\n",
        "plt.show()\n",
        "\n",
        "# Step 10: Conclusion\n",
        "print(\"\\n✅ The model predicts loan approval with reasonable accuracy on this small dataset.\")"
      ],
      "metadata": {
        "colab": {
          "base_uri": "https://localhost:8080/",
          "height": 768
        },
        "id": "Vn5_vwusSHHw",
        "outputId": "802360ea-16b4-4630-d4d6-c9a1f9092496"
      },
      "execution_count": 13,
      "outputs": [
        {
          "output_type": "stream",
          "name": "stdout",
          "text": [
            "Sample Dataset:\n",
            "\n",
            "   Gender Married  ApplicantIncome  LoanAmount  Credit_History Loan_Status\n",
            "0    Male     Yes             5000         200               1           Y\n",
            "1  Female      No             3000         100               1           N\n",
            "2    Male     Yes             4000         150               0           Y\n",
            "3  Female     Yes             6000         250               1           Y\n",
            "4    Male      No             2500          80               0           N\n",
            "5  Female     Yes             4200         180               1           Y\n",
            "6    Male      No             3700         120               1           Y\n",
            "7  Female      No             2900          90               0           N\n",
            "8    Male     Yes             4500         220               0           N\n",
            "9  Female     Yes             5200         160               1           Y\n",
            "\n",
            "✅ Accuracy: 0.5\n",
            "\n",
            "✅ Confusion Matrix:\n",
            " [[0 2]\n",
            " [0 2]]\n"
          ]
        },
        {
          "output_type": "stream",
          "name": "stderr",
          "text": [
            "/usr/local/lib/python3.11/dist-packages/sklearn/linear_model/_logistic.py:465: ConvergenceWarning: lbfgs failed to converge (status=1):\n",
            "STOP: TOTAL NO. OF ITERATIONS REACHED LIMIT.\n",
            "\n",
            "Increase the number of iterations (max_iter) or scale the data as shown in:\n",
            "    https://scikit-learn.org/stable/modules/preprocessing.html\n",
            "Please also refer to the documentation for alternative solver options:\n",
            "    https://scikit-learn.org/stable/modules/linear_model.html#logistic-regression\n",
            "  n_iter_i = _check_optimize_result(\n"
          ]
        },
        {
          "output_type": "display_data",
          "data": {
            "text/plain": [
              "<Figure size 640x480 with 2 Axes>"
            ],
            "image/png": "[encoded data removed]"
          },
          "metadata": {}
        },
        {
          "output_type": "stream",
          "name": "stdout",
          "text": [
            "\n",
            "✅ The model predicts loan approval with reasonable accuracy on this small dataset.\n"
          ]
        }
      ]
    }
  ]
}