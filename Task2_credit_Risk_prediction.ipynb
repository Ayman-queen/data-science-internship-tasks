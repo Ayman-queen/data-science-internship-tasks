{
  "nbformat": 4,
  "nbformat_minor": 0,
  "metadata": {
    "colab": {
      "provenance": [],
      "authorship_tag": "ABX9TyOWx3D1IgCutgYHkA8Cnk28",
      "include_colab_link": true
    },
    "kernelspec": {
      "name": "python3",
      "display_name": "Python 3"
    },
    "language_info": {
      "name": "python"
    }
  },
  "cells": [
    {
      "cell_type": "markdown",
      "metadata": {
        "id": "view-in-github",
        "colab_type": "text"
      },
      "source": [
        "<a href=\"https://colab.research.google.com/github/Ayman-queen/data-science-internship-tasks/blob/main/Task2_credit_Risk_prediction.ipynb\" target=\"_parent\"><img src=\"https://colab.research.google.com/assets/colab-badge.svg\" alt=\"Open In Colab\"/></a>"
      ]
    },
    {
      "cell_type": "code",
      "source": [
        "# ✅ TASK 2: Credit Risk Prediction (Clean & Complete Version)\n",
        "\n",
        "# Step 1: Import Required Libraries\n",
        "import pandas as pd\n",
        "import matplotlib.pyplot as plt\n",
        "import seaborn as sns\n",
        "from sklearn.model_selection import train_test_split\n",
        "from sklearn.preprocessing import LabelEncoder\n",
        "from sklearn.linear_model import LogisticRegression\n",
        "from sklearn.metrics import accuracy_score, confusion_matrix\n",
        "\n",
        "# Step 2: Create Sample Loan Dataset (No upload needed)\n",
        "data = {\n",
        "    'Gender': ['Male', 'Female', 'Male', 'Female', 'Male', 'Female', 'Male', 'Female', 'Male', 'Female'],\n",
        "    'Married': ['Yes', 'No', 'Yes', 'Yes', 'No', 'Yes', 'No', 'No', 'Yes', 'Yes'],\n",
        "    'ApplicantIncome': [5000, 3000, 4000, 6000, 2500, 4200, 3700, 2900, 4500, 5200],\n",
        "    'LoanAmount': [200, 100, 150, 250, 80, 180, 120, 90, 220, 160],\n",
        "    'Credit_History': [1, 1, 0, 1, 0, 1, 1, 0, 0, 1],\n",
        "    'Loan_Status': ['Y', 'N', 'Y', 'Y', 'N', 'Y', 'Y', 'N', 'N', 'Y']\n",
        "}\n",
        "\n",
        "df = pd.DataFrame(data)\n",
        "\n",
        "# Step 3: Encode Categorical Columns\n",
        "le = LabelEncoder()\n",
        "df['Gender'] = le.fit_transform(df['Gender'])         # Male=1, Female=0\n",
        "df['Married'] = le.fit_transform(df['Married'])       # Yes=1, No=0\n",
        "df['Loan_Status'] = le.fit_transform(df['Loan_Status'])  # Y=1, N=0\n",
        "\n",
        "# Step 4: Define Features and Target\n",
        "X = df[['Gender', 'Married', 'ApplicantIncome', 'LoanAmount', 'Credit_History']]\n",
        "y = df['Loan_Status']\n",
        "\n",
        "# Step 5: Split the Dataset (Stratify to avoid class imbalance)\n",
        "X_train, X_test, y_train, y_test = train_test_split(\n",
        "    X, y, test_size=0.3, random_state=42, stratify=y)\n",
        "\n",
        "# Step 6: Train Logistic Regression Model\n",
        "model = LogisticRegression(max_iter=200)  # No warning, more iterations\n",
        "model.fit(X_train, y_train)\n",
        "\n",
        "# Step 7: Predict on Test Data\n",
        "y_pred = model.predict(X_test)\n",
        "\n",
        "# Step 8: Evaluate the Model\n",
        "accuracy = accuracy_score(y_test, y_pred)\n",
        "cm = confusion_matrix(y_test, y_pred)\n",
        "\n",
        "print(\"✅ Accuracy:\", round(accuracy, 2))\n",
        "print(\"\\n✅ Confusion Matrix:\\n\", cm)\n",
        "\n",
        "# Step 9: Visualize Confusion Matrix\n",
        "sns.heatmap(cm, annot=True, cmap='Blues', fmt='d')\n",
        "plt.title(\"Confusion Matrix\")\n",
        "plt.xlabel(\"Predicted\")\n",
        "plt.ylabel(\"Actual\")\n",
        "plt.show()\n",
        "\n",
        "# Step 10: Final Note\n",
        "print(\"\\n✅ The model was successfully trained on a small dataset to predict credit risk.\")"
      ],
      "metadata": {
        "colab": {
          "base_uri": "https://localhost:8080/",
          "height": 386
        },
        "id": "BUqav1C0TIBw",
        "outputId": "ed907581-cb3e-4457-ca64-ca42c3386492"
      },
      "execution_count": 14,
      "outputs": [
        {
          "output_type": "stream",
          "name": "stdout",
          "text": [
            "✅ Accuracy: 1.0\n",
            "\n",
            "✅ Confusion Matrix:\n",
            " [[1 0]\n",
            " [0 2]]\n"
          ]
        },
        {
          "output_type": "display_data",
          "data": {
            "text/plain": [
              "<Figure size 640x480 with 2 Axes>"
            ],
            "image/png": "[encoded data removed]"
          },
          "metadata": {}
        },
        {
          "output_type": "stream",
          "name": "stdout",
          "text": [
            "\n",
            "✅ The model was successfully trained on a small dataset to predict credit risk.\n"
          ]
        }
      ]
    }
  ]
}